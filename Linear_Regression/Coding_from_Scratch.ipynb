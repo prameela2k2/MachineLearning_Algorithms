{
  "nbformat": 4,
  "nbformat_minor": 0,
  "metadata": {
    "colab": {
      "provenance": []
    },
    "kernelspec": {
      "name": "python3",
      "display_name": "Python 3"
    },
    "language_info": {
      "name": "python"
    }
  },
  "cells": [
    {
      "cell_type": "code",
      "execution_count": 83,
      "metadata": {
        "id": "kLd8mKcd3re6"
      },
      "outputs": [],
      "source": [
        "# Defining a custom Linear Regression class\n",
        "class MYLR:\n",
        "    def __init__(self):\n",
        "        self.m = None  # Slope of the regression line\n",
        "        self.b = None  # Intercept of the regression line\n",
        "\n",
        "    def fit(self, X_train, y_train):  # Method to train the model\n",
        "        print(X_train.shape)  # Displaying the shape of the training data\n",
        "\n",
        "    def predict(self, X_test):  # Method to make predictions\n",
        "        pass\n"
      ]
    },
    {
      "cell_type": "code",
      "source": [
        "# Importing the necessary libraries\n",
        "import numpy as np  # For numerical operations\n",
        "import pandas as pd  # For data handling\n",
        "import matplotlib.pyplot as plt  # For plotting graphs\n"
      ],
      "metadata": {
        "id": "1vb01TB43-QY"
      },
      "execution_count": 84,
      "outputs": []
    },
    {
      "cell_type": "code",
      "source": [
        "# Reading the CSV file into a DataFrame\n",
        "df = pd.read_csv('/content/Placements.csv')\n",
        "\n",
        "# Displaying the first 5 rows of the DataFrame\n",
        "df.head()\n"
      ],
      "metadata": {
        "colab": {
          "base_uri": "https://localhost:8080/",
          "height": 206
        },
        "id": "bjc_cLVCCTtD",
        "outputId": "65b49722-ed91-43f5-c668-4166c1a6b864"
      },
      "execution_count": 85,
      "outputs": [
        {
          "output_type": "execute_result",
          "data": {
            "text/plain": [
              "   CGPA  Package (LPA)\n",
              "0  6.87          14.48\n",
              "1  9.75          19.67\n",
              "2  8.66          17.20\n",
              "3  7.99          15.68\n",
              "4  5.78          10.08"
            ],
            "text/html": [
              "\n",
              "  <div id=\"df-3b13f50b-d817-41ef-8881-3deaf5e67733\" class=\"colab-df-container\">\n",
              "    <div>\n",
              "<style scoped>\n",
              "    .dataframe tbody tr th:only-of-type {\n",
              "        vertical-align: middle;\n",
              "    }\n",
              "\n",
              "    .dataframe tbody tr th {\n",
              "        vertical-align: top;\n",
              "    }\n",
              "\n",
              "    .dataframe thead th {\n",
              "        text-align: right;\n",
              "    }\n",
              "</style>\n",
              "<table border=\"1\" class=\"dataframe\">\n",
              "  <thead>\n",
              "    <tr style=\"text-align: right;\">\n",
              "      <th></th>\n",
              "      <th>CGPA</th>\n",
              "      <th>Package (LPA)</th>\n",
              "    </tr>\n",
              "  </thead>\n",
              "  <tbody>\n",
              "    <tr>\n",
              "      <th>0</th>\n",
              "      <td>6.87</td>\n",
              "      <td>14.48</td>\n",
              "    </tr>\n",
              "    <tr>\n",
              "      <th>1</th>\n",
              "      <td>9.75</td>\n",
              "      <td>19.67</td>\n",
              "    </tr>\n",
              "    <tr>\n",
              "      <th>2</th>\n",
              "      <td>8.66</td>\n",
              "      <td>17.20</td>\n",
              "    </tr>\n",
              "    <tr>\n",
              "      <th>3</th>\n",
              "      <td>7.99</td>\n",
              "      <td>15.68</td>\n",
              "    </tr>\n",
              "    <tr>\n",
              "      <th>4</th>\n",
              "      <td>5.78</td>\n",
              "      <td>10.08</td>\n",
              "    </tr>\n",
              "  </tbody>\n",
              "</table>\n",
              "</div>\n",
              "    <div class=\"colab-df-buttons\">\n",
              "\n",
              "  <div class=\"colab-df-container\">\n",
              "    <button class=\"colab-df-convert\" onclick=\"convertToInteractive('df-3b13f50b-d817-41ef-8881-3deaf5e67733')\"\n",
              "            title=\"Convert this dataframe to an interactive table.\"\n",
              "            style=\"display:none;\">\n",
              "\n",
              "  <svg xmlns=\"http://www.w3.org/2000/svg\" height=\"24px\" viewBox=\"0 -960 960 960\">\n",
              "    <path d=\"M120-120v-720h720v720H120Zm60-500h600v-160H180v160Zm220 220h160v-160H400v160Zm0 220h160v-160H400v160ZM180-400h160v-160H180v160Zm440 0h160v-160H620v160ZM180-180h160v-160H180v160Zm440 0h160v-160H620v160Z\"/>\n",
              "  </svg>\n",
              "    </button>\n",
              "\n",
              "  <style>\n",
              "    .colab-df-container {\n",
              "      display:flex;\n",
              "      gap: 12px;\n",
              "    }\n",
              "\n",
              "    .colab-df-convert {\n",
              "      background-color: #E8F0FE;\n",
              "      border: none;\n",
              "      border-radius: 50%;\n",
              "      cursor: pointer;\n",
              "      display: none;\n",
              "      fill: #1967D2;\n",
              "      height: 32px;\n",
              "      padding: 0 0 0 0;\n",
              "      width: 32px;\n",
              "    }\n",
              "\n",
              "    .colab-df-convert:hover {\n",
              "      background-color: #E2EBFA;\n",
              "      box-shadow: 0px 1px 2px rgba(60, 64, 67, 0.3), 0px 1px 3px 1px rgba(60, 64, 67, 0.15);\n",
              "      fill: #174EA6;\n",
              "    }\n",
              "\n",
              "    .colab-df-buttons div {\n",
              "      margin-bottom: 4px;\n",
              "    }\n",
              "\n",
              "    [theme=dark] .colab-df-convert {\n",
              "      background-color: #3B4455;\n",
              "      fill: #D2E3FC;\n",
              "    }\n",
              "\n",
              "    [theme=dark] .colab-df-convert:hover {\n",
              "      background-color: #434B5C;\n",
              "      box-shadow: 0px 1px 3px 1px rgba(0, 0, 0, 0.15);\n",
              "      filter: drop-shadow(0px 1px 2px rgba(0, 0, 0, 0.3));\n",
              "      fill: #FFFFFF;\n",
              "    }\n",
              "  </style>\n",
              "\n",
              "    <script>\n",
              "      const buttonEl =\n",
              "        document.querySelector('#df-3b13f50b-d817-41ef-8881-3deaf5e67733 button.colab-df-convert');\n",
              "      buttonEl.style.display =\n",
              "        google.colab.kernel.accessAllowed ? 'block' : 'none';\n",
              "\n",
              "      async function convertToInteractive(key) {\n",
              "        const element = document.querySelector('#df-3b13f50b-d817-41ef-8881-3deaf5e67733');\n",
              "        const dataTable =\n",
              "          await google.colab.kernel.invokeFunction('convertToInteractive',\n",
              "                                                    [key], {});\n",
              "        if (!dataTable) return;\n",
              "\n",
              "        const docLinkHtml = 'Like what you see? Visit the ' +\n",
              "          '<a target=\"_blank\" href=https://colab.research.google.com/notebooks/data_table.ipynb>data table notebook</a>'\n",
              "          + ' to learn more about interactive tables.';\n",
              "        element.innerHTML = '';\n",
              "        dataTable['output_type'] = 'display_data';\n",
              "        await google.colab.output.renderOutput(dataTable, element);\n",
              "        const docLink = document.createElement('div');\n",
              "        docLink.innerHTML = docLinkHtml;\n",
              "        element.appendChild(docLink);\n",
              "      }\n",
              "    </script>\n",
              "  </div>\n",
              "\n",
              "\n",
              "<div id=\"df-17fbc353-c0c2-4549-a011-0833d218f1ca\">\n",
              "  <button class=\"colab-df-quickchart\" onclick=\"quickchart('df-17fbc353-c0c2-4549-a011-0833d218f1ca')\"\n",
              "            title=\"Suggest charts\"\n",
              "            style=\"display:none;\">\n",
              "\n",
              "<svg xmlns=\"http://www.w3.org/2000/svg\" height=\"24px\"viewBox=\"0 0 24 24\"\n",
              "     width=\"24px\">\n",
              "    <g>\n",
              "        <path d=\"M19 3H5c-1.1 0-2 .9-2 2v14c0 1.1.9 2 2 2h14c1.1 0 2-.9 2-2V5c0-1.1-.9-2-2-2zM9 17H7v-7h2v7zm4 0h-2V7h2v10zm4 0h-2v-4h2v4z\"/>\n",
              "    </g>\n",
              "</svg>\n",
              "  </button>\n",
              "\n",
              "<style>\n",
              "  .colab-df-quickchart {\n",
              "      --bg-color: #E8F0FE;\n",
              "      --fill-color: #1967D2;\n",
              "      --hover-bg-color: #E2EBFA;\n",
              "      --hover-fill-color: #174EA6;\n",
              "      --disabled-fill-color: #AAA;\n",
              "      --disabled-bg-color: #DDD;\n",
              "  }\n",
              "\n",
              "  [theme=dark] .colab-df-quickchart {\n",
              "      --bg-color: #3B4455;\n",
              "      --fill-color: #D2E3FC;\n",
              "      --hover-bg-color: #434B5C;\n",
              "      --hover-fill-color: #FFFFFF;\n",
              "      --disabled-bg-color: #3B4455;\n",
              "      --disabled-fill-color: #666;\n",
              "  }\n",
              "\n",
              "  .colab-df-quickchart {\n",
              "    background-color: var(--bg-color);\n",
              "    border: none;\n",
              "    border-radius: 50%;\n",
              "    cursor: pointer;\n",
              "    display: none;\n",
              "    fill: var(--fill-color);\n",
              "    height: 32px;\n",
              "    padding: 0;\n",
              "    width: 32px;\n",
              "  }\n",
              "\n",
              "  .colab-df-quickchart:hover {\n",
              "    background-color: var(--hover-bg-color);\n",
              "    box-shadow: 0 1px 2px rgba(60, 64, 67, 0.3), 0 1px 3px 1px rgba(60, 64, 67, 0.15);\n",
              "    fill: var(--button-hover-fill-color);\n",
              "  }\n",
              "\n",
              "  .colab-df-quickchart-complete:disabled,\n",
              "  .colab-df-quickchart-complete:disabled:hover {\n",
              "    background-color: var(--disabled-bg-color);\n",
              "    fill: var(--disabled-fill-color);\n",
              "    box-shadow: none;\n",
              "  }\n",
              "\n",
              "  .colab-df-spinner {\n",
              "    border: 2px solid var(--fill-color);\n",
              "    border-color: transparent;\n",
              "    border-bottom-color: var(--fill-color);\n",
              "    animation:\n",
              "      spin 1s steps(1) infinite;\n",
              "  }\n",
              "\n",
              "  @keyframes spin {\n",
              "    0% {\n",
              "      border-color: transparent;\n",
              "      border-bottom-color: var(--fill-color);\n",
              "      border-left-color: var(--fill-color);\n",
              "    }\n",
              "    20% {\n",
              "      border-color: transparent;\n",
              "      border-left-color: var(--fill-color);\n",
              "      border-top-color: var(--fill-color);\n",
              "    }\n",
              "    30% {\n",
              "      border-color: transparent;\n",
              "      border-left-color: var(--fill-color);\n",
              "      border-top-color: var(--fill-color);\n",
              "      border-right-color: var(--fill-color);\n",
              "    }\n",
              "    40% {\n",
              "      border-color: transparent;\n",
              "      border-right-color: var(--fill-color);\n",
              "      border-top-color: var(--fill-color);\n",
              "    }\n",
              "    60% {\n",
              "      border-color: transparent;\n",
              "      border-right-color: var(--fill-color);\n",
              "    }\n",
              "    80% {\n",
              "      border-color: transparent;\n",
              "      border-right-color: var(--fill-color);\n",
              "      border-bottom-color: var(--fill-color);\n",
              "    }\n",
              "    90% {\n",
              "      border-color: transparent;\n",
              "      border-bottom-color: var(--fill-color);\n",
              "    }\n",
              "  }\n",
              "</style>\n",
              "\n",
              "  <script>\n",
              "    async function quickchart(key) {\n",
              "      const quickchartButtonEl =\n",
              "        document.querySelector('#' + key + ' button');\n",
              "      quickchartButtonEl.disabled = true;  // To prevent multiple clicks.\n",
              "      quickchartButtonEl.classList.add('colab-df-spinner');\n",
              "      try {\n",
              "        const charts = await google.colab.kernel.invokeFunction(\n",
              "            'suggestCharts', [key], {});\n",
              "      } catch (error) {\n",
              "        console.error('Error during call to suggestCharts:', error);\n",
              "      }\n",
              "      quickchartButtonEl.classList.remove('colab-df-spinner');\n",
              "      quickchartButtonEl.classList.add('colab-df-quickchart-complete');\n",
              "    }\n",
              "    (() => {\n",
              "      let quickchartButtonEl =\n",
              "        document.querySelector('#df-17fbc353-c0c2-4549-a011-0833d218f1ca button');\n",
              "      quickchartButtonEl.style.display =\n",
              "        google.colab.kernel.accessAllowed ? 'block' : 'none';\n",
              "    })();\n",
              "  </script>\n",
              "</div>\n",
              "\n",
              "    </div>\n",
              "  </div>\n"
            ],
            "application/vnd.google.colaboratory.intrinsic+json": {
              "type": "dataframe",
              "variable_name": "df",
              "summary": "{\n  \"name\": \"df\",\n  \"rows\": 50,\n  \"fields\": [\n    {\n      \"column\": \"CGPA\",\n      \"properties\": {\n        \"dtype\": \"number\",\n        \"std\": 1.4443413017422049,\n        \"min\": 5.1,\n        \"max\": 9.85,\n        \"num_unique_values\": 46,\n        \"samples\": [\n          5.17,\n          7.57,\n          7.96\n        ],\n        \"semantic_type\": \"\",\n        \"description\": \"\"\n      }\n    },\n    {\n      \"column\": \"Package (LPA)\",\n      \"properties\": {\n        \"dtype\": \"number\",\n        \"std\": 2.969238348019057,\n        \"min\": 9.81,\n        \"max\": 21.04,\n        \"num_unique_values\": 48,\n        \"samples\": [\n          16.14,\n          11.0,\n          11.93\n        ],\n        \"semantic_type\": \"\",\n        \"description\": \"\"\n      }\n    }\n  ]\n}"
            }
          },
          "metadata": {},
          "execution_count": 85
        }
      ]
    },
    {
      "cell_type": "code",
      "source": [
        "# Extract features (CGPA) and target (Package)\n",
        "X = df.iloc[:, 0].values  # Feature: CGPA\n",
        "y = df.iloc[:, -1].values  # Target: Package (LPA)\n"
      ],
      "metadata": {
        "id": "8-GEx69cCk-a"
      },
      "execution_count": 86,
      "outputs": []
    },
    {
      "cell_type": "code",
      "source": [
        "X #CGPA values"
      ],
      "metadata": {
        "colab": {
          "base_uri": "https://localhost:8080/"
        },
        "id": "FpMSM3aLCsSd",
        "outputId": "6a8fff21-5161-4787-fa65-c7d047233caf"
      },
      "execution_count": 87,
      "outputs": [
        {
          "output_type": "execute_result",
          "data": {
            "text/plain": [
              "array([6.87, 9.75, 8.66, 7.99, 5.78, 5.78, 5.29, 9.33, 8.01, 8.54, 5.1 ,\n",
              "       9.85, 9.16, 6.06, 5.91, 5.92, 6.52, 7.62, 7.16, 6.46, 8.06, 5.7 ,\n",
              "       6.46, 6.83, 7.28, 8.93, 6.  , 7.57, 7.96, 5.23, 8.04, 5.85, 5.33,\n",
              "       9.74, 9.83, 9.04, 6.52, 5.49, 8.42, 7.2 , 5.61, 7.48, 5.17, 9.55,\n",
              "       6.29, 8.31, 6.56, 7.6 , 7.73, 5.92])"
            ]
          },
          "metadata": {},
          "execution_count": 87
        }
      ]
    },
    {
      "cell_type": "code",
      "source": [
        "y #package data"
      ],
      "metadata": {
        "colab": {
          "base_uri": "https://localhost:8080/"
        },
        "id": "rFQliAUgCveh",
        "outputId": "57a02a24-a6df-45eb-cee1-775091500110"
      },
      "execution_count": 88,
      "outputs": [
        {
          "output_type": "execute_result",
          "data": {
            "text/plain": [
              "array([14.48, 19.67, 17.2 , 15.68, 10.08, 10.84, 10.12, 19.72, 16.36,\n",
              "       15.32, 10.52, 19.31, 17.64, 12.73, 12.85, 12.77, 12.2 , 14.93,\n",
              "       14.65, 13.9 , 15.64, 11.21, 11.81, 12.46, 15.37, 19.22, 11.93,\n",
              "       16.14, 16.28,  9.81, 16.44, 13.24, 10.62, 21.04, 17.04, 18.9 ,\n",
              "       13.13, 10.68, 16.93, 12.41, 11.  , 15.32, 11.82, 18.58, 11.77,\n",
              "       16.12, 14.04, 15.53, 14.93, 12.35])"
            ]
          },
          "metadata": {},
          "execution_count": 88
        }
      ]
    },
    {
      "cell_type": "code",
      "source": [
        "# Splitting the dataset into training and testing sets\n",
        "from sklearn.model_selection import train_test_split  # Importing the function\n",
        "X_train, X_test, y_train, y_test = train_test_split(X, y, test_size=0.2, random_state=2)  # 20% data for testing\n"
      ],
      "metadata": {
        "id": "9wUsX-M9C5bd"
      },
      "execution_count": 89,
      "outputs": []
    },
    {
      "cell_type": "code",
      "source": [
        "# Displaying the shape of the training feature set\n",
        "X_train.shape\n"
      ],
      "metadata": {
        "colab": {
          "base_uri": "https://localhost:8080/"
        },
        "id": "oWV9iSEWDCMH",
        "outputId": "66c6c04f-af6c-45e8-d489-41f322e5ab45"
      },
      "execution_count": 90,
      "outputs": [
        {
          "output_type": "execute_result",
          "data": {
            "text/plain": [
              "(40,)"
            ]
          },
          "metadata": {},
          "execution_count": 90
        }
      ]
    },
    {
      "cell_type": "code",
      "source": [
        "# Creating an instance of the custom linear regression model\n",
        "regressor = MYLR()\n",
        "\n",
        "# Training the model with the training data\n",
        "regressor.fit(X_train, y_train)\n"
      ],
      "metadata": {
        "colab": {
          "base_uri": "https://localhost:8080/"
        },
        "id": "CH-6zNT3DNBe",
        "outputId": "6e84977d-167b-4241-f26c-74d3bd66c7d4"
      },
      "execution_count": 91,
      "outputs": [
        {
          "output_type": "stream",
          "name": "stdout",
          "text": [
            "(40,)\n"
          ]
        }
      ]
    },
    {
      "cell_type": "code",
      "source": [
        "class MYLR:\n",
        "  def __init__(self):\n",
        "    self.m = None\n",
        "    self.b = None\n",
        "  def fit(self,X_train,y_train): #to train your model\n",
        "    for i in range(X_train.shape[0]):\n",
        "      print(X_train[i])\n",
        "  def predict(self,X_test): #to test your model\n",
        "    pass\n"
      ],
      "metadata": {
        "id": "f25G9e35DQ5i"
      },
      "execution_count": 92,
      "outputs": []
    },
    {
      "cell_type": "code",
      "source": [
        "# Displaying the number of samples in the training feature set\n",
        "X_train.shape[0]\n"
      ],
      "metadata": {
        "colab": {
          "base_uri": "https://localhost:8080/"
        },
        "id": "rXS0B_vBDmrZ",
        "outputId": "a934bead-708b-4160-95b9-8bc14fd67348"
      },
      "execution_count": 93,
      "outputs": [
        {
          "output_type": "execute_result",
          "data": {
            "text/plain": [
              "40"
            ]
          },
          "metadata": {},
          "execution_count": 93
        }
      ]
    },
    {
      "cell_type": "code",
      "source": [
        "class MYLR:\n",
        "    def __init__(self):\n",
        "        self.m = None  # slope\n",
        "        self.b = None  # intercept\n",
        "\n",
        "    def fit(self, X_train, y_train):  # to train your model\n",
        "        num = 0  # numerator for slope\n",
        "        den = 0  # denominator for slope\n",
        "\n",
        "        # Loop over each data point in X_train\n",
        "        for i in range(X_train.shape[0]):\n",
        "            num += (X_train[i] - X_train.mean()) * (y_train[i] - y_train.mean())\n",
        "            den += (X_train[i] - X_train.mean()) ** 2  # Sum of squared differences\n",
        "\n",
        "        # Calculate slope (m) and intercept (b)\n",
        "        self.m = num / den\n",
        "        self.b = y_train.mean() - (self.m * X_train.mean())\n",
        "\n",
        "        # Output the values of slope and intercept\n",
        "        print(self.m)\n",
        "        print(self.b)\n",
        "\n",
        "    def predict(self, X_test):  # to test your model\n",
        "        pass"
      ],
      "metadata": {
        "id": "jkfHnICnDxdR"
      },
      "execution_count": 94,
      "outputs": []
    },
    {
      "cell_type": "code",
      "source": [
        "X_train[0]"
      ],
      "metadata": {
        "colab": {
          "base_uri": "https://localhost:8080/"
        },
        "id": "8WUyN8QTEHxg",
        "outputId": "3eb14246-e547-431f-b7d6-6c6ea2a3fe57"
      },
      "execution_count": 95,
      "outputs": [
        {
          "output_type": "execute_result",
          "data": {
            "text/plain": [
              "7.28"
            ]
          },
          "metadata": {},
          "execution_count": 95
        }
      ]
    },
    {
      "cell_type": "code",
      "source": [
        "regressor=MYLR()"
      ],
      "metadata": {
        "id": "LOkJpBglFXJp"
      },
      "execution_count": 96,
      "outputs": []
    },
    {
      "cell_type": "code",
      "source": [
        "regressor.fit(X_train,y_train)\n"
      ],
      "metadata": {
        "colab": {
          "base_uri": "https://localhost:8080/"
        },
        "id": "HTp15oV9Eg--",
        "outputId": "95dfe324-8289-4f0c-f077-58428de8770b"
      },
      "execution_count": 97,
      "outputs": [
        {
          "output_type": "stream",
          "name": "stdout",
          "text": [
            "1.975005915964705\n",
            "0.24485070691979516\n"
          ]
        }
      ]
    },
    {
      "cell_type": "code",
      "source": [
        "X_train.shape[0]"
      ],
      "metadata": {
        "colab": {
          "base_uri": "https://localhost:8080/"
        },
        "id": "KaK7ciGQFPCM",
        "outputId": "4a48f7c7-87c6-4d94-fa6a-cf8d97e83ce1"
      },
      "execution_count": 98,
      "outputs": [
        {
          "output_type": "execute_result",
          "data": {
            "text/plain": [
              "40"
            ]
          },
          "metadata": {},
          "execution_count": 98
        }
      ]
    },
    {
      "cell_type": "code",
      "source": [
        "class MYLR:\n",
        "    def __init__(self):\n",
        "        self.m = None  # slope\n",
        "        self.b = None  # intercept\n",
        "\n",
        "    def fit(self, X_train, y_train):  # to train your model\n",
        "        num = 0  # numerator for slope\n",
        "        den = 0  # denominator for slope\n",
        "\n",
        "        # Loop over each data point in X_train\n",
        "        for i in range(X_train.shape[0]):\n",
        "            num += (X_train[i] - X_train.mean()) * (y_train[i] - y_train.mean())\n",
        "            den += (X_train[i] - X_train.mean()) ** 2  # Sum of squared differences\n",
        "\n",
        "        # Calculate slope (m) and intercept (b)\n",
        "        self.m = num / den\n",
        "        self.b = y_train.mean() - (self.m * X_train.mean())\n",
        "\n",
        "        # Output the values of slope and intercept\n",
        "        print(self.m)\n",
        "        print(self.b)\n",
        "\n",
        "    def predict(self, X_test):  # to test your model\n",
        "        print(X_test)\n",
        "        return self.m * X_test + self.b  # prediction based on the linear model\n"
      ],
      "metadata": {
        "id": "LGkwcVDoIxs4"
      },
      "execution_count": 99,
      "outputs": []
    },
    {
      "cell_type": "code",
      "source": [
        "X_test[0]"
      ],
      "metadata": {
        "colab": {
          "base_uri": "https://localhost:8080/"
        },
        "id": "g9OpdzQUK1pU",
        "outputId": "c97870dc-d1ed-4492-c02f-fad2fd625b71"
      },
      "execution_count": 100,
      "outputs": [
        {
          "output_type": "execute_result",
          "data": {
            "text/plain": [
              "6.52"
            ]
          },
          "metadata": {},
          "execution_count": 100
        }
      ]
    },
    {
      "cell_type": "code",
      "source": [
        "regressor=MYLR()"
      ],
      "metadata": {
        "id": "SgfO8OetLp0b"
      },
      "execution_count": 101,
      "outputs": []
    },
    {
      "cell_type": "code",
      "source": [
        "regressor.fit(X_train,y_train)\n"
      ],
      "metadata": {
        "colab": {
          "base_uri": "https://localhost:8080/"
        },
        "id": "Rompc-8bLydr",
        "outputId": "c0f6805d-51d4-4a39-9dc7-582c5cadcb15"
      },
      "execution_count": 102,
      "outputs": [
        {
          "output_type": "stream",
          "name": "stdout",
          "text": [
            "1.975005915964705\n",
            "0.24485070691979516\n"
          ]
        }
      ]
    },
    {
      "cell_type": "code",
      "source": [
        "print(regressor.predict(X_test[0]))"
      ],
      "metadata": {
        "colab": {
          "base_uri": "https://localhost:8080/"
        },
        "id": "wOUZ4aZPLC4p",
        "outputId": "226df024-b81c-46b4-c86c-e70e8275b5ca"
      },
      "execution_count": 103,
      "outputs": [
        {
          "output_type": "stream",
          "name": "stdout",
          "text": [
            "6.52\n",
            "13.121889279009672\n"
          ]
        }
      ]
    }
  ]
}